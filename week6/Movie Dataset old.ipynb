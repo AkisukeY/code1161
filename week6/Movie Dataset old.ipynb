{
 "cells": [
  {
   "cell_type": "markdown",
   "metadata": {
    "deletable": true,
    "editable": true
   },
   "source": [
    "#"
   ]
  },
  {
   "cell_type": "code",
   "execution_count": 2,
   "metadata": {
    "collapsed": true,
    "deletable": true,
    "editable": true
   },
   "outputs": [],
   "source": [
    "# -*- coding: UTF-8 -*-\n",
    "import pandas as pd\n",
    "import numpy as np\n",
    "#import seaborn as sns\n",
    "import matplotlib\n",
    "import matplotlib.pyplot as plt\n",
    "import os\n",
    "#from wordcloud import WordCloud\n",
    "#from ggplot import *\n",
    "%matplotlib inline\n",
    "plt.rcParams['figure.figsize'] = (20,10)\n",
    "saved_style_state = matplotlib.rcParams.copy()"
   ]
  },
  {
   "cell_type": "code",
   "execution_count": 11,
   "metadata": {
    "collapsed": false,
    "deletable": true,
    "editable": true
   },
   "outputs": [
    {
     "name": "stdout",
     "output_type": "stream",
     "text": [
      "(5043, 28)\n",
      "(4917, 28)\n"
     ]
    }
   ],
   "source": [
    "#movies = pd.read_csv(\"c:/users/daniel/downloads/moviedata.csv\", encoding='UTF-8')\n",
    "movies = pd.read_csv(\"c:/users/daniel/documents/Movie Data.csv\")\n",
    "print(movies.shape)\n",
    "movies = movies.drop_duplicates(subset='movie_title')\n",
    "print(movies.shape)"
   ]
  },
  {
   "cell_type": "code",
   "execution_count": null,
   "metadata": {
    "collapsed": true,
    "deletable": true,
    "editable": true
   },
   "outputs": [],
   "source": [
    "strings = []\n",
    "for colname, colvalue in movies.iteritems():\n",
    "    if type(colvalue[1]) == str:\n",
    "        strings.append(colname)\n",
    "num_list = movies.columns.difference(strings)"
   ]
  },
  {
   "cell_type": "code",
   "execution_count": null,
   "metadata": {
    "collapsed": true,
    "deletable": true,
    "editable": true
   },
   "outputs": [],
   "source": [
    "num_movies = movies[num_list]"
   ]
  },
  {
   "cell_type": "code",
   "execution_count": null,
   "metadata": {
    "collapsed": true,
    "deletable": true,
    "editable": true
   },
   "outputs": [],
   "source": [
    "num_movies = num_movies.fillna(value=0, axis =1)"
   ]
  },
  {
   "cell_type": "code",
   "execution_count": null,
   "metadata": {
    "collapsed": true,
    "deletable": true,
    "editable": true
   },
   "outputs": [],
   "source": [
    "movies.columns"
   ]
  },
  {
   "cell_type": "code",
   "execution_count": null,
   "metadata": {
    "collapsed": true,
    "deletable": true,
    "editable": true
   },
   "outputs": [],
   "source": [
    "num_movies.columns"
   ]
  },
  {
   "cell_type": "code",
   "execution_count": null,
   "metadata": {
    "collapsed": true,
    "deletable": true,
    "editable": true
   },
   "outputs": [],
   "source": [
    "#Example Movie\n",
    "\n",
    "row_one = movies.iloc[0]\n",
    "row_one"
   ]
  },
  {
   "cell_type": "code",
   "execution_count": null,
   "metadata": {
    "collapsed": true,
    "deletable": true,
    "editable": true
   },
   "outputs": [],
   "source": [
    "# Begin non-value graphs"
   ]
  },
  {
   "cell_type": "code",
   "execution_count": null,
   "metadata": {
    "collapsed": true,
    "deletable": true,
    "editable": true
   },
   "outputs": [],
   "source": [
    "movies[\"color\"].value_counts()"
   ]
  },
  {
   "cell_type": "code",
   "execution_count": null,
   "metadata": {
    "collapsed": true,
    "deletable": true,
    "editable": true
   },
   "outputs": [],
   "source": [
    "colours = ['orange', 'gray']\n",
    "movies[\"color\"].value_counts().plot(kind=\"bar\", color=colours)"
   ]
  },
  {
   "cell_type": "code",
   "execution_count": null,
   "metadata": {
    "collapsed": true,
    "deletable": true,
    "editable": true
   },
   "outputs": [],
   "source": [
    "dname = movies[\"director_name\"].value_counts()\n",
    "print dname"
   ]
  },
  {
   "cell_type": "code",
   "execution_count": null,
   "metadata": {
    "collapsed": true,
    "deletable": true,
    "editable": true
   },
   "outputs": [],
   "source": [
    "dname[dname > 10].plot(kind=\"bar\")"
   ]
  },
  {
   "cell_type": "code",
   "execution_count": null,
   "metadata": {
    "collapsed": true,
    "deletable": true,
    "editable": true
   },
   "outputs": [],
   "source": [
    "a1 = movies[\"actor_1_name\"].value_counts()\n",
    "print a1"
   ]
  },
  {
   "cell_type": "code",
   "execution_count": null,
   "metadata": {
    "collapsed": true,
    "deletable": true,
    "editable": true
   },
   "outputs": [],
   "source": [
    "a1[a1 > 10].plot(kind=\"bar\")"
   ]
  },
  {
   "cell_type": "code",
   "execution_count": null,
   "metadata": {
    "collapsed": true,
    "deletable": true,
    "editable": true
   },
   "outputs": [],
   "source": [
    "a2 = movies[\"actor_2_name\"].value_counts()\n",
    "print a2"
   ]
  },
  {
   "cell_type": "code",
   "execution_count": null,
   "metadata": {
    "collapsed": true,
    "deletable": true,
    "editable": true
   },
   "outputs": [],
   "source": [
    "a2[a2 > 7].plot(kind=\"bar\")"
   ]
  },
  {
   "cell_type": "code",
   "execution_count": null,
   "metadata": {
    "collapsed": true,
    "deletable": true,
    "editable": true
   },
   "outputs": [],
   "source": [
    "a3 = movies[\"actor_3_name\"].value_counts()\n",
    "print a3"
   ]
  },
  {
   "cell_type": "code",
   "execution_count": null,
   "metadata": {
    "collapsed": true,
    "deletable": true,
    "editable": true
   },
   "outputs": [],
   "source": [
    "a3[a3 > 5].plot(kind=\"bar\")"
   ]
  },
  {
   "cell_type": "code",
   "execution_count": null,
   "metadata": {
    "collapsed": true,
    "deletable": true,
    "editable": true
   },
   "outputs": [],
   "source": [
    "genres = movies[\"genres\"].value_counts()\n",
    "print genres"
   ]
  },
  {
   "cell_type": "code",
   "execution_count": null,
   "metadata": {
    "collapsed": true,
    "deletable": true,
    "editable": true
   },
   "outputs": [],
   "source": [
    "gen = movies[\"genres\"].notnull()\n",
    "movies[\"genres\"][gen].apply(lambda x :x.split(\"|\"))\n",
    "movies[\"single_genres\"] = movies[\"genres\"][gen].apply(lambda x :x.split(\"|\"))\n",
    "\n",
    "splitg = movies[\"single_genres\"].apply(lambda x : pd.Series(x).value_counts()).sum().sort_values(ascending = False)\n",
    "print splitg"
   ]
  },
  {
   "cell_type": "code",
   "execution_count": null,
   "metadata": {
    "collapsed": true,
    "deletable": true,
    "editable": true
   },
   "outputs": [],
   "source": [
    "genres[genres > 30].plot(kind=\"bar\")"
   ]
  },
  {
   "cell_type": "code",
   "execution_count": null,
   "metadata": {
    "collapsed": true,
    "deletable": true,
    "editable": true
   },
   "outputs": [],
   "source": [
    "splitg.plot(kind=\"bar\")"
   ]
  },
  {
   "cell_type": "code",
   "execution_count": null,
   "metadata": {
    "collapsed": true,
    "deletable": true,
    "editable": true,
    "scrolled": true
   },
   "outputs": [],
   "source": [
    "keyword = movies[\"plot_keywords\"].notnull()\n",
    "movies[\"plot_keywords\"][keyword].apply(lambda x :x.split(\"|\"))\n",
    "movies[\"good_keywords\"] = movies[\"plot_keywords\"][keyword].apply(lambda x :x.split(\"|\"))\n",
    "gwords = movies[\"good_keywords\"].apply(lambda x : pd.Series(x).value_counts()).sum().sort_values(ascending = False)\n",
    "print gwords"
   ]
  },
  {
   "cell_type": "code",
   "execution_count": null,
   "metadata": {
    "collapsed": true,
    "deletable": true,
    "editable": true
   },
   "outputs": [],
   "source": [
    "#tags = movies['plot_keywords'][keyword].copy().str.split('|').apply(pd.Series, 1).stack()\n",
    "#tags.index = tags.index.droplevel(-1)\n",
    "#tags.index\n",
    "#tags.name = 'tags'\n",
    "#movies_w_tags = movies.join(tags)\n",
    "\n"
   ]
  },
  {
   "cell_type": "code",
   "execution_count": null,
   "metadata": {
    "collapsed": true,
    "deletable": true,
    "editable": true
   },
   "outputs": [],
   "source": [
    "#print movies[\"good_keywords\"]\n",
    "#phraseList = gwords\n",
    "\n",
    "#def wordCount(phraseList, unwatedWords):\n",
    "#    wordList = []\n",
    "#    differentWords = []\n",
    "#    wordCountList = []\n",
    "#    unwantedWords = [\"and\", \"an\", \"is\", \"the\"]\n",
    "    \n",
    "#    for phrase in phraseList:\n",
    "#        for word in phrase.split(\" \"):\n",
    "#            wordList.append(word)\n",
    "            \n",
    "#    for word in wordList():\n",
    "#        if word not in differentWords and word not in unwantedWords:\n",
    "#                differentWords.append(word)\n",
    "#                wordCountList.append(wordList.count(word))\n",
    "                \n",
    "#    print zip(wordCountList, differentWords)\n"
   ]
  },
  {
   "cell_type": "code",
   "execution_count": null,
   "metadata": {
    "collapsed": true,
    "deletable": true,
    "editable": true
   },
   "outputs": [],
   "source": [
    "gwords[gwords > 60].plot(kind=\"bar\")"
   ]
  },
  {
   "cell_type": "code",
   "execution_count": null,
   "metadata": {
    "collapsed": true,
    "deletable": true,
    "editable": true,
    "scrolled": true
   },
   "outputs": [],
   "source": [
    "lang = movies[\"language\"].value_counts()\n",
    "print lang"
   ]
  },
  {
   "cell_type": "code",
   "execution_count": null,
   "metadata": {
    "collapsed": true,
    "deletable": true,
    "editable": true
   },
   "outputs": [],
   "source": [
    "sum_lang = sum(lang)\n",
    "print sum_lang\n",
    "minus = sum_lang - lang.head(1)\n",
    "print minus\n",
    "labels = ['English', 'Not English']  \n",
    "explode = (0.1, 0.01)\n",
    "\n",
    "f, ax1 = plt.subplots()\n",
    "ax1.pie((lang.head(1), minus), explode=explode, labels=labels, autopct='%1.0f%%', shadow=True)\n",
    "ax1.axis('equal')\n",
    "plt.show()"
   ]
  },
  {
   "cell_type": "code",
   "execution_count": null,
   "metadata": {
    "collapsed": true,
    "deletable": true,
    "editable": true
   },
   "outputs": [],
   "source": [
    "rating = movies[\"content_rating\"].value_counts()\n",
    "print rating"
   ]
  },
  {
   "cell_type": "code",
   "execution_count": null,
   "metadata": {
    "collapsed": true,
    "deletable": true,
    "editable": true
   },
   "outputs": [],
   "source": [
    "rating.plot(kind=\"bar\")"
   ]
  },
  {
   "cell_type": "code",
   "execution_count": null,
   "metadata": {
    "collapsed": true,
    "deletable": true,
    "editable": true
   },
   "outputs": [],
   "source": [
    "year = movies[\"title_year\"].value_counts()\n",
    "print year"
   ]
  },
  {
   "cell_type": "code",
   "execution_count": null,
   "metadata": {
    "collapsed": true,
    "deletable": true,
    "editable": true
   },
   "outputs": [],
   "source": [
    "year.plot(kind=\"bar\")"
   ]
  },
  {
   "cell_type": "code",
   "execution_count": null,
   "metadata": {
    "collapsed": true,
    "deletable": true,
    "editable": true
   },
   "outputs": [],
   "source": [
    "ratio = movies[\"aspect_ratio\"].value_counts()\n",
    "print ratio"
   ]
  },
  {
   "cell_type": "code",
   "execution_count": null,
   "metadata": {
    "collapsed": true,
    "deletable": true,
    "editable": true
   },
   "outputs": [],
   "source": [
    "ratio[ratio > 10].plot(kind=\"bar\")"
   ]
  },
  {
   "cell_type": "code",
   "execution_count": null,
   "metadata": {
    "collapsed": true,
    "deletable": true,
    "editable": true
   },
   "outputs": [],
   "source": [
    "#Begin Quantity Graphs"
   ]
  },
  {
   "cell_type": "code",
   "execution_count": null,
   "metadata": {
    "collapsed": true,
    "deletable": true,
    "editable": true
   },
   "outputs": [],
   "source": [
    "num_movies[\"num_critic_for_reviews\"].hist(bins=50)"
   ]
  },
  {
   "cell_type": "code",
   "execution_count": null,
   "metadata": {
    "collapsed": true,
    "deletable": true,
    "editable": true
   },
   "outputs": [],
   "source": [
    "num_movies[\"num_user_for_reviews\"].hist(bins=20)"
   ]
  },
  {
   "cell_type": "code",
   "execution_count": null,
   "metadata": {
    "collapsed": true,
    "deletable": true,
    "editable": true
   },
   "outputs": [],
   "source": [
    "num_movies[\"num_voted_users\"].hist(bins=20)"
   ]
  },
  {
   "cell_type": "code",
   "execution_count": null,
   "metadata": {
    "collapsed": true,
    "deletable": true,
    "editable": true
   },
   "outputs": [],
   "source": [
    "num_movies[\"duration\"].hist(bins=50)\n",
    "plt.axvline(num_movies[\"duration\"].mean(), color='k', linestyle='dashed', linewidth=3)"
   ]
  },
  {
   "cell_type": "code",
   "execution_count": null,
   "metadata": {
    "collapsed": true,
    "deletable": true,
    "editable": true
   },
   "outputs": [],
   "source": [
    "pos_dir_fb_likes = num_movies[\"director_facebook_likes\"]\n",
    "pos_dir_fb_likes[pos_dir_fb_likes > 0].drop_duplicates().hist(bins=100)"
   ]
  },
  {
   "cell_type": "code",
   "execution_count": null,
   "metadata": {
    "collapsed": true,
    "deletable": true,
    "editable": true
   },
   "outputs": [],
   "source": [
    "pos_fb_likes = num_movies[\"movie_facebook_likes\"]\n",
    "pos_fb_likes[pos_fb_likes > 0].hist(bins=50)"
   ]
  },
  {
   "cell_type": "code",
   "execution_count": null,
   "metadata": {
    "collapsed": true,
    "deletable": true,
    "editable": true
   },
   "outputs": [],
   "source": [
    "pos_1_fb_likes = num_movies[\"actor_1_facebook_likes\"]\n",
    "pos_1_fb_likes[pos_1_fb_likes > 0].drop_duplicates().hist(bins=50)"
   ]
  },
  {
   "cell_type": "code",
   "execution_count": null,
   "metadata": {
    "collapsed": true,
    "deletable": true,
    "editable": true
   },
   "outputs": [],
   "source": [
    "pos_2_fb_likes = num_movies[\"actor_2_facebook_likes\"]\n",
    "pos_2_fb_likes[pos_2_fb_likes > 0].drop_duplicates().hist(bins=50)"
   ]
  },
  {
   "cell_type": "code",
   "execution_count": null,
   "metadata": {
    "collapsed": true,
    "deletable": true,
    "editable": true
   },
   "outputs": [],
   "source": [
    "pos_3_fb_likes = num_movies[\"actor_3_facebook_likes\"]\n",
    "pos_3_fb_likes[pos_3_fb_likes > 0].drop_duplicates().hist(bins=50)"
   ]
  },
  {
   "cell_type": "code",
   "execution_count": null,
   "metadata": {
    "collapsed": true,
    "deletable": true,
    "editable": true
   },
   "outputs": [],
   "source": [
    "pos_cast_fb_likes = num_movies[\"cast_total_facebook_likes\"]\n",
    "pos_cast_fb_likes[pos_cast_fb_likes > 0].drop_duplicates().hist(bins=50)"
   ]
  },
  {
   "cell_type": "code",
   "execution_count": null,
   "metadata": {
    "collapsed": true,
    "deletable": true,
    "editable": true
   },
   "outputs": [],
   "source": [
    "num_movies[\"facenumber_in_poster\"].hist(bins=44)\n",
    "num_movies[\"facenumber_in_poster\"].value_counts()"
   ]
  },
  {
   "cell_type": "code",
   "execution_count": null,
   "metadata": {
    "collapsed": true,
    "deletable": true,
    "editable": true
   },
   "outputs": [],
   "source": [
    "#Finding out what a specific outlier is\n",
    "\n",
    "movie_faces = zip(range(len(num_movies[\"facenumber_in_poster\"])),num_movies[\"facenumber_in_poster\"])\n",
    "\n",
    "for movie in movie_faces:\n",
    "    if movie[1] == 43:\n",
    "        print movies[\"movie_title\"][movie[0]]\n",
    "        \n",
    "\n",
    "        "
   ]
  },
  {
   "cell_type": "code",
   "execution_count": null,
   "metadata": {
    "collapsed": true,
    "deletable": true,
    "editable": true
   },
   "outputs": [],
   "source": [
    "pos_gross = num_movies[\"gross\"]\n",
    "pos_gross[pos_gross > 0].hist(bins=100)\n",
    "plt.xlabel('x100 million', fontsize=18)\n",
    "plt.axvline(num_movies[\"gross\"].mean(), color='k', linestyle='dashed', linewidth=3)"
   ]
  },
  {
   "cell_type": "code",
   "execution_count": null,
   "metadata": {
    "collapsed": true,
    "deletable": true,
    "editable": true
   },
   "outputs": [],
   "source": [
    "pos_budget = num_movies[\"budget\"]\n",
    "pos_budget[pos_budget > 0].hist(bins=100, range=[0,310000000])\n",
    "plt.xlabel('x100 million', fontsize=18)\n",
    "plt.axvline(num_movies[\"budget\"].mean(), color='k', linestyle='dashed', linewidth=3)"
   ]
  },
  {
   "cell_type": "code",
   "execution_count": null,
   "metadata": {
    "collapsed": true,
    "deletable": true,
    "editable": true
   },
   "outputs": [],
   "source": [
    "pos_gross[pos_gross > 0].hist(bins=30, alpha=1, range=[0,300000000], color='k')\n",
    "pos_budget[pos_budget > 0].hist(bins=30, range=[0,300000000], alpha=0.5, color='r')\n",
    "plt.xlabel('x100 million', fontsize=18)"
   ]
  },
  {
   "cell_type": "code",
   "execution_count": null,
   "metadata": {
    "collapsed": true,
    "deletable": true,
    "editable": true
   },
   "outputs": [],
   "source": [
    "num_movies[\"imdb_score\"].hist(bins=80)\n",
    "plt.axvline(num_movies[\"imdb_score\"].mean(), color='k', linestyle='dashed', linewidth=3)"
   ]
  },
  {
   "cell_type": "code",
   "execution_count": null,
   "metadata": {
    "collapsed": true,
    "deletable": true,
    "editable": true
   },
   "outputs": [],
   "source": [
    "top_movies = movies[[\"movie_title\",\"imdb_score\"]].sort_values(\"imdb_score\", ascending = False).head(10)\n",
    "worst_movies = movies[[\"movie_title\",\"imdb_score\"]].sort_values(\"imdb_score\", ascending = True).head(10)\n",
    "worst_movies = worst_movies.sort_values(\"imdb_score\", ascending = False)\n",
    "combo_movies = [top_movies, worst_movies]\n",
    "combo = pd.concat(combo_movies)\n",
    "combo.head(20)"
   ]
  },
  {
   "cell_type": "code",
   "execution_count": null,
   "metadata": {
    "collapsed": true,
    "deletable": true,
    "editable": true
   },
   "outputs": [],
   "source": [
    "# End Basic Graphs\n",
    "\n",
    "\n",
    "# Story Number 1\n",
    "# Top Keywords\n",
    "#Now to look at the top end movies of certain categories and then the prevailant themes."
   ]
  },
  {
   "cell_type": "code",
   "execution_count": null,
   "metadata": {
    "collapsed": true,
    "deletable": true,
    "editable": true
   },
   "outputs": [],
   "source": [
    "source_count = 150\n",
    "not_wanted = [\"to\", \"and\", \"the\", \"boy\", \"in\", \"of\", \"girl\", \"based on\", \"based\", \"on\", \"box office\"]\n",
    "wc = 60"
   ]
  },
  {
   "cell_type": "code",
   "execution_count": null,
   "metadata": {
    "collapsed": true,
    "deletable": true,
    "editable": true,
    "scrolled": true
   },
   "outputs": [],
   "source": [
    "top500imdb = movies[[\"movie_title\",\"imdb_score\", \"good_keywords\"]].sort_values(\"imdb_score\", ascending = False).head(source_count)\n",
    "imdb_keywords = top500imdb[\"good_keywords\"].apply(lambda x : pd.Series(x).value_counts()).sum().sort_values(ascending = False)\n"
   ]
  },
  {
   "cell_type": "code",
   "execution_count": null,
   "metadata": {
    "collapsed": true,
    "deletable": true,
    "editable": true,
    "scrolled": true
   },
   "outputs": [],
   "source": [
    "listy = top500imdb[\"good_keywords\"].values.T.tolist()\n",
    "#print listy\n",
    "#''.join([str(r) for v in listy for r in v]) \n",
    "flat_listy = []\n",
    "for x in listy:\n",
    "    try:\n",
    "        for y in x:\n",
    "            flat_listy.append(y)\n",
    "    except: \"Filler\"\n",
    "flater_listy = \" \".join(flat_listy)"
   ]
  },
  {
   "cell_type": "code",
   "execution_count": null,
   "metadata": {
    "collapsed": true,
    "deletable": true,
    "editable": true
   },
   "outputs": [],
   "source": [
    "wordcloudimdb = WordCloud(width = 2000, height = 2000, stopwords=not_wanted, background_color='white', max_words = wc).generate(flater_listy)\n",
    "plt.imshow(wordcloudimdb)\n",
    "plt.axis(\"off\")\n",
    "plt.show()\n"
   ]
  },
  {
   "cell_type": "code",
   "execution_count": null,
   "metadata": {
    "collapsed": true,
    "deletable": true,
    "editable": true,
    "scrolled": true
   },
   "outputs": [],
   "source": [
    "culled_movies = movies.fillna(value=0, axis =1)\n",
    "\n",
    "top500gross = movies[[\"movie_title\",\"gross\", \"good_keywords\"]].sort_values(\"gross\", ascending = False).head(source_count)\n",
    "gross_keywords = top500gross[\"good_keywords\"].apply(lambda x : pd.Series(x).value_counts()).sum().sort_values(ascending = False)\n"
   ]
  },
  {
   "cell_type": "code",
   "execution_count": null,
   "metadata": {
    "collapsed": true,
    "deletable": true,
    "editable": true
   },
   "outputs": [],
   "source": [
    "lister = top500gross[\"good_keywords\"].values.T.tolist()\n",
    "flat_lister = []\n",
    "for x in lister:\n",
    "    try:\n",
    "        for y in x:\n",
    "            flat_lister.append(y)\n",
    "    except: \"Filler\"\n",
    "flater_lister = \" \".join(flat_lister)"
   ]
  },
  {
   "cell_type": "code",
   "execution_count": null,
   "metadata": {
    "collapsed": true,
    "deletable": true,
    "editable": true
   },
   "outputs": [],
   "source": [
    "wordcloudgross = WordCloud(width = 2000, height = 2000, stopwords=not_wanted, background_color='white', max_words = wc).generate(flater_lister)\n",
    "plt.imshow(wordcloudgross)\n",
    "plt.axis(\"off\")\n",
    "plt.show()"
   ]
  },
  {
   "cell_type": "code",
   "execution_count": null,
   "metadata": {
    "collapsed": true,
    "deletable": true,
    "editable": true,
    "scrolled": true
   },
   "outputs": [],
   "source": [
    "top500budget = movies[[\"movie_title\",\"budget\", \"good_keywords\"]].sort_values(\"budget\", ascending = False).head(source_count)\n",
    "budget_keywords = top500budget[\"good_keywords\"].apply(lambda x : pd.Series(x).value_counts()).sum().sort_values(ascending = False)"
   ]
  },
  {
   "cell_type": "code",
   "execution_count": null,
   "metadata": {
    "collapsed": true,
    "deletable": true,
    "editable": true
   },
   "outputs": [],
   "source": [
    "listest = top500budget[\"good_keywords\"].values.T.tolist()\n",
    "flat_listest = []\n",
    "for x in listest:\n",
    "    try:\n",
    "        for y in x:\n",
    "            flat_listest.append(y)\n",
    "    except: \"Filler\"\n",
    "flater_listest = \" \".join(flat_listest)"
   ]
  },
  {
   "cell_type": "code",
   "execution_count": null,
   "metadata": {
    "collapsed": true,
    "deletable": true,
    "editable": true
   },
   "outputs": [],
   "source": [
    "wordcloudbudget = WordCloud(width = 2000, height = 2000, stopwords=not_wanted, background_color='white', max_words = wc).generate(flater_listest)\n",
    "plt.imshow(wordcloudbudget)\n",
    "plt.axis(\"off\")\n",
    "plt.show()"
   ]
  },
  {
   "cell_type": "code",
   "execution_count": null,
   "metadata": {
    "collapsed": true,
    "deletable": true,
    "editable": true
   },
   "outputs": [],
   "source": [
    "f, (ax1, ax2, ax3) = plt.subplots(1, 3, sharey=True, figsize=(14, 5))\n",
    "ax1.imshow(wordcloudimdb, aspect='auto')\n",
    "ax1.set_title('IMDB_Score', size='20')\n",
    "ax1.axis(\"off\")\n",
    "ax2.imshow(wordcloudgross, aspect='auto')\n",
    "ax2.set_title('Gross', size='20')\n",
    "ax2.axis(\"off\")\n",
    "ax3.imshow(wordcloudbudget, aspect='auto')\n",
    "ax3.set_title('Budget', size='20')\n",
    "ax3.axis(\"off\")\n",
    "plt.tight_layout()"
   ]
  },
  {
   "cell_type": "code",
   "execution_count": null,
   "metadata": {
    "collapsed": true,
    "deletable": true,
    "editable": true
   },
   "outputs": [],
   "source": [
    "# Story number 3\n",
    "# Most profitable films"
   ]
  },
  {
   "cell_type": "code",
   "execution_count": null,
   "metadata": {
    "collapsed": true,
    "deletable": true,
    "editable": true
   },
   "outputs": [],
   "source": [
    "movies[\"profit\"] = (movies[\"gross\"] - movies[\"budget\"])\n",
    "movies[\"ROI\"] = ((movies[\"profit\"]/movies[\"budget\"])*100)"
   ]
  },
  {
   "cell_type": "code",
   "execution_count": null,
   "metadata": {
    "collapsed": true,
    "deletable": true,
    "editable": true
   },
   "outputs": [],
   "source": [
    "#profit_list = movies[[\"movie_title\", \"profit\"]].sort_values(\"profit\", ascending = False).head(15)\n",
    "#print profit_list\n",
    "profit_list = movies.sort_values(\"profit\", ascending = False).head(15)\n",
    "plist = profit_list['movie_title']\n",
    "theme_xkcd()"
   ]
  },
  {
   "cell_type": "code",
   "execution_count": null,
   "metadata": {
    "collapsed": true,
    "deletable": true,
    "editable": true
   },
   "outputs": [],
   "source": [
    "profit_gg = ggplot(aes(x='budget', y='profit', label='movie_title'), data=profit_list)\n",
    "profit_gg + geom_text(angle = 45, size = 'small', color='black') + theme_bw() + geom_point(color='black', size = 200) + geom_point(color='pink', size = 100) + xlab(\"Budget x100 Million\") + ylab(\"Profit x100 Million\") + ggtitle(\"Highest Profit Movies plotted against their Budget\") \n"
   ]
  },
  {
   "cell_type": "code",
   "execution_count": null,
   "metadata": {
    "collapsed": true,
    "deletable": true,
    "editable": true
   },
   "outputs": [],
   "source": [
    "roi_head = movies[[\"movie_title\", \"ROI\"]].sort_values(\"ROI\", ascending = False).head(30)\n",
    "roi_list = movies.sort_values(\"ROI\", ascending = False).head(15)"
   ]
  },
  {
   "cell_type": "code",
   "execution_count": null,
   "metadata": {
    "collapsed": true,
    "deletable": true,
    "editable": true,
    "scrolled": true
   },
   "outputs": [],
   "source": [
    "roi_gg = ggplot(aes(x='budget', y='profit', label='movie_title'), data=roi_list)\n",
    "roi_gg + geom_text(size = 'smaller', color='black') + theme_bw() + geom_point(color='black', size = 200) + geom_point(color='pink', size = 100) + xlab(\"Budget\") + ylab(\"Profit x100 Million\") + ggtitle(\"Highest 'Return on Investment' plotted against their Budget\") \n",
    "\n"
   ]
  },
  {
   "cell_type": "code",
   "execution_count": null,
   "metadata": {
    "collapsed": true,
    "deletable": true,
    "editable": true
   },
   "outputs": [],
   "source": [
    "# Story 3"
   ]
  },
  {
   "cell_type": "code",
   "execution_count": null,
   "metadata": {
    "collapsed": true,
    "deletable": true,
    "editable": true
   },
   "outputs": [],
   "source": [
    "actor_col = movies[[\"actor_1_name\",\"imdb_score\"]].sort_values(\"imdb_score\", ascending = False).head()\n",
    "print actor_col"
   ]
  },
  {
   "cell_type": "code",
   "execution_count": 39,
   "metadata": {
    "collapsed": false,
    "deletable": true,
    "editable": true
   },
   "outputs": [
    {
     "data": {
      "text/plain": [
       "<matplotlib.axes._subplots.AxesSubplot at 0x80fd9f0>"
      ]
     },
     "execution_count": 39,
     "metadata": {},
     "output_type": "execute_result"
    },
    {
     "data": {
      "image/png": "[encoded data removed]",
      "text/plain": [
       "<matplotlib.figure.Figure at 0x7013c70>"
      ]
     },
     "metadata": {},
     "output_type": "display_data"
    }
   ],
   "source": [
    "movies['sort_act'] = movies.groupby('actor_1_name', sort=False)['imdb_score'].rank(ascending=False)\n",
    "actorMean = movies.groupby('actor_1_name', sort=True).agg(['median','count'])['imdb_score']\n",
    "actorMean=actorMean.loc[actorMean['count']>5]\n",
    "actorMean=actorMean.sort_values('median', ascending=False).head(20)\n",
    "actorMean['rank']=range(1,actorMean['median'].size+1)\n",
    "actorMean=actorMean.sort_index()\n",
    "\n",
    "moviesTopActors=movies[['actor_1_name', 'imdb_score']].loc[movies['actor_1_name'].isin(actorMean.index.values)].sort_values(['actor_1_name', 'imdb_score'], ascending=False)\n",
    "moviesTopActors.boxplot(column='imdb_score',by='actor_1_name',rot=90, grid=False, positions=actorMean['rank'])\n"
   ]
  },
  {
   "cell_type": "code",
   "execution_count": null,
   "metadata": {
    "collapsed": true,
    "deletable": true,
    "editable": true
   },
   "outputs": [],
   "source": []
  }
 ],
 "metadata": {
  "kernelspec": {
   "display_name": "Python 2",
   "language": "python",
   "name": "python2"
  },
  "language_info": {
   "codemirror_mode": {
    "name": "ipython",
    "version": 2
   },
   "file_extension": ".py",
   "mimetype": "text/x-python",
   "name": "python",
   "nbconvert_exporter": "python",
   "pygments_lexer": "ipython2",
   "version": "2.7.12"
  }
 },
 "nbformat": 4,
 "nbformat_minor": 2
}
